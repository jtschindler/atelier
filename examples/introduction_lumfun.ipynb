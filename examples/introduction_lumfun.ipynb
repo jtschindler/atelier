{
 "cells": [
  {
   "cell_type": "markdown",
   "id": "892a3661",
   "metadata": {},
   "source": [
    "# atelier.lumfun - Introduction\n",
    "### Introduction to the Atelier's luminosity function classwith a strong emphasis on quasar luminosity functions"
   ]
  },
  {
   "cell_type": "code",
   "execution_count": 1,
   "id": "6217fd02",
   "metadata": {},
   "outputs": [],
   "source": [
    "# General imports \n",
    "import numpy as np\n",
    "import matplotlib.pyplot as plt\n",
    "from astropy.cosmology import FlatLambdaCDM\n",
    "\n",
    "# Importing the luminosity function module\n",
    "from atelier import lumfun"
   ]
  },
  {
   "cell_type": "markdown",
   "id": "906ec5a3",
   "metadata": {},
   "source": [
    "## 1) Introduction to the luminosity function object\n",
    "### 1.1) Instantiating the luminosity function object\n",
    "#### For this example we use the McGreer+2013 quasar luminosity function\n",
    "ADS reference: https://ui.adsabs.harvard.edu/abs/2013ApJ...768..105M/abstract\n",
    "The quasar luminosity function in the paper is defined using a broken double power law with the luminosity in magnitudes. An implementation of a magnitude based broken double power law luminosity function already exists in the *lumfun* module. "
   ]
  },
  {
   "cell_type": "code",
   "execution_count": 2,
   "id": "cd3d9f06",
   "metadata": {},
   "outputs": [
    {
     "name": "stdout",
     "output_type": "stream",
     "text": [
      " Luminosity function, which takes the functional form of a double\n",
      "    power law with the luminosity in absolute magnitudes.\n",
      "\n",
      "    The luminosity function has four main parameters:\n",
      "\n",
      "    - \"phi_star\": the overall normalization\n",
      "    - \"lum_star\": the break luminosity/magnitude where the power law slopes\n",
      "      change.\n",
      "    - \"alpha\": the first power law slope\n",
      "    - \"beta\": the second power law slope\n",
      "\n",
      "    \n"
     ]
    }
   ],
   "source": [
    "print(lumfun.DoublePowerLawLF.__doc__)"
   ]
  },
  {
   "cell_type": "markdown",
   "id": "37fe6f9c",
   "metadata": {},
   "source": [
    "The four main parameters need to be specified either as parameters or as functions. In this example only the source density normalization is a function, which depends on redshift (redsh), a z=6 normalized value of the source density *log_phi_star* and a parameter *k*."
   ]
  },
  {
   "cell_type": "code",
   "execution_count": 3,
   "id": "0c1e7315",
   "metadata": {},
   "outputs": [],
   "source": [
    "# Define the source density normalization as in McGreer+2013\n",
    "def phi_star(redsh, log_phi_star, k):\n",
    "    return 10 ** (log_phi_star + k * (redsh - 6))\n",
    "\n",
    "\n",
    "log_phi_star = lumfun.Parameter(-8.94, 'log_phi_star', one_sigma_unc = [0.24, 0.20])\n",
    "k = lumfun.Parameter(-0.47, 'k', vary=False)"
   ]
  },
  {
   "cell_type": "markdown",
   "id": "dfaf29a7",
   "metadata": {},
   "source": [
    "We begin with defining the function for *phi_star* and its parameters. Redshift (redsh) and luminosity (lum) are always arguments of the luminosity function and do not require further definition. However, we need to define and provide *log_phi_star* and *k*. \n",
    "\n",
    "For these parameters we use the **lumfun.Parameter** class which has the following attributes:"
   ]
  },
  {
   "cell_type": "code",
   "execution_count": 4,
   "id": "7c01dc88",
   "metadata": {},
   "outputs": [
    {
     "name": "stdout",
     "output_type": "stream",
     "text": [
      " A class providing a data container for a parameter used in the\n",
      "    luminosity function class.\n",
      "\n",
      "    Attributes\n",
      "    ----------\n",
      "    value : float\n",
      "        Value of the parameter\n",
      "    name : string\n",
      "        Name of the parameter\n",
      "    bounds : tupler\n",
      "        Bounds of the parameter, used in fitting\n",
      "    vary : bool\n",
      "        Boolean to indicate whether this parameter should be varied, used in\n",
      "        fitting\n",
      "    one_sigma_unc: list (2 elements)\n",
      "        1 sigma uncertainty of the parameter.\n",
      "\n",
      "    \n"
     ]
    }
   ],
   "source": [
    "print(lumfun.Parameter.__doc__)"
   ]
  },
  {
   "cell_type": "markdown",
   "id": "fbcfd010",
   "metadata": {},
   "source": [
    "In the next step we define the other three main parameters and instantiate the broken double power law luminosity function (*atelier.lumfun.DoublePowerLawLF*)."
   ]
  },
  {
   "cell_type": "code",
   "execution_count": 5,
   "id": "3df29e6d",
   "metadata": {},
   "outputs": [
    {
     "name": "stdout",
     "output_type": "stream",
     "text": [
      "[INFO]---------------------------------------------------\n",
      "[INFO] Performing initialization checks \n",
      "[INFO]---------------------------------------------------\n",
      "[INFO]---------------------------------------------------\n",
      "[INFO] Main parameter phi_star is described by a function.\n",
      "[INFO] The function parameters are: ['redsh', 'log_phi_star', 'k']\n",
      "[INFO] All parameters are supplied.\n",
      "[INFO] Parameters \"lum\" and \"redsh\" were ignored as they are luminosity function arguments.\n",
      "[INFO]---------------------------------------------------\n",
      "[INFO] Main parameter lum_star is supplied as a normal parameter.\n",
      "[INFO]---------------------------------------------------\n",
      "[INFO] Main parameter alpha is supplied as a normal parameter.\n",
      "[INFO]---------------------------------------------------\n",
      "[INFO] Main parameter beta is supplied as a normal parameter.\n",
      "[INFO]---------------------------------------------------\n",
      "[INFO] Initialization check passed.\n",
      "[INFO]---------------------------------------------------\n"
     ]
    }
   ],
   "source": [
    "lum_star = lumfun.Parameter(-27.21, 'lum_star', one_sigma_unc = [0.33, 0.27])\n",
    "alpha = lumfun.Parameter(-2.03, 'alpha', vary=True, one_sigma_unc = [0.14, 0.15])\n",
    "\n",
    "# The beta slope does not have an uncertainty as it set to -4 in McGreer+2013\n",
    "beta = lumfun.Parameter(-4, 'beta', bounds=[-8, -3])\n",
    "\n",
    "# Wrapping the parameters in a dictionary\n",
    "parameters = {'log_phi_star': log_phi_star, 'k': k, 'lum_star': lum_star,\n",
    "              'beta': beta, 'alpha': alpha}\n",
    "# Wrapping the parameter functions (param_functions) in a dictionary\n",
    "param_functions = {'phi_star': phi_star}\n",
    "\n",
    "# The luminosity function type attribute is used in specific calculations based on the luminosity function\n",
    "# only lum_type = 'M1450' has a special meaning at the moment.\n",
    "lum_type = 'M1450'\n",
    "\n",
    "mcgreer2013 = lumfun.DoublePowerLawLF(parameters, param_functions, lum_type=lum_type)"
   ]
  },
  {
   "cell_type": "markdown",
   "id": "3a0639a4",
   "metadata": {},
   "source": [
    "**Important**\n",
    "With the instantiation of the luminosity function object a verbose check is carried out in which the code automatically checks if all *main parameters* have been either defined as parameters or as a function of parameters. "
   ]
  },
  {
   "cell_type": "markdown",
   "id": "afc63a83",
   "metadata": {},
   "source": [
    "### 1.2) Basic calculations\n",
    "### 1.2.1) Calculating the luminosity function\n",
    "To retrieve values of the luminosity function one can either directly call it supplying a luminosity and redshift (e.g., *mcgreer2013(M1450,redsh)*) or use the *.evaluate(lum,redsh)* function. In both cases either the luminosity or the redshift can also be specified as a numpy.ndarray instead of a single float value. "
   ]
  },
  {
   "cell_type": "code",
   "execution_count": 6,
   "id": "0c0aa08f",
   "metadata": {},
   "outputs": [
    {
     "name": "stdout",
     "output_type": "stream",
     "text": [
      "2.7377613276931382e-09\n",
      "(700,)\n",
      "(20,)\n"
     ]
    }
   ],
   "source": [
    "# Defining a magnitude array\n",
    "M1450 = np.arange(-29, -22, 0.01)\n",
    "# Defining a redshift array\n",
    "z= np.arange(4, 6, 0.1)\n",
    "\n",
    "# Calling the luminosity function with a luminosity and a redshift value produces one output value\n",
    "print(mcgreer2013(-27, 4.9))\n",
    "\n",
    "# Calling the luminosity function with a np.ndarray in luminosity and a redshift value produces a np.ndarray\n",
    "print(mcgreer2013(M1450, 4.9).shape)\n",
    "\n",
    "# Calling the luminosity function with a np.ndarray in redshift and a magnitude value produces a np.ndarray\n",
    "print(mcgreer2013(-27, z).shape)\n"
   ]
  },
  {
   "cell_type": "markdown",
   "id": "376054b1",
   "metadata": {},
   "source": [
    "Let us now display the McGreer+2013 quasar luminosity function in comparison to the binned values from the paper, basically reproducing Fig.16 of the publication. "
   ]
  },
  {
   "cell_type": "code",
   "execution_count": 7,
   "id": "689d6692",
   "metadata": {},
   "outputs": [
    {
     "data": {
      "image/png": "[encoded data removed]",
      "text/plain": [
       "<Figure size 432x288 with 1 Axes>"
      ]
     },
     "metadata": {
      "needs_background": "light"
     },
     "output_type": "display_data"
    }
   ],
   "source": [
    "# Binned QLF data from the publication\n",
    "\n",
    "dr7 = {'M1450':np.array([-28.05, -27.55, -27.05, -26.55, -26.05]),\n",
    "       'logPhi':np.array([-9.45, -9.24, -8.51, -8.20, -7.9]),\n",
    "       'simga_logPhi':np.array([0.21, 0.26, 0.58, 0.91, 1.89])*1e-9}\n",
    "\n",
    "str82 = {'M1450':np.array([-27.0, -26.45, -25.9, -25.35, -24.8, -24.25]),\n",
    "       'logPhi':np.array([-8.4, -7.84, -7.9, -7.53, -7.36, -7.14]),\n",
    "       'simga_logPhi':np.array([2.81, 6.97, 5.92, 10.23, 11.51, 19.9])*1e-9}\n",
    "\n",
    "\n",
    "\n",
    "# Color definition for plotting \n",
    "vermillion = (213/255., 94/255., 0)\n",
    "dblue = (0, 114/255., 178/255.)\n",
    "dred = (179/255., 0, 0)\n",
    "\n",
    "qlf = mcgreer2013(M1450, 4.9)\n",
    "\n",
    "plt.plot(M1450, qlf, lw=1.5, color=vermillion, label='QLF (MLE fit)')\n",
    "plt.plot(dr7['M1450'], 10**dr7['logPhi'], 's', color=dblue, label='DR7')\n",
    "plt.plot(str82['M1450'], 10**str82['logPhi'], 's', color=dred, label='Stripe82')\n",
    "plt.xlim(-22, -29)\n",
    "\n",
    "# Make the plot nice\n",
    "plt.semilogy()\n",
    "plt.ylabel('$\\Phi(M_{1450},z)$', fontsize=16)\n",
    "plt.xlabel('$M_{1450}$', fontsize=16)\n",
    "plt.title('McGreer+2013 QLF at $z\\sim5$', fontsize=16)\n",
    "plt.legend(loc=3, fontsize=14)\n",
    "plt.show()"
   ]
  },
  {
   "cell_type": "markdown",
   "id": "58352a8d",
   "metadata": {},
   "source": [
    "### 1.2.2) Calculating the number of quasars in a redshift and luminosity range (per steradian)\n",
    "The built-in class function *.integrate_over_lum_redsh* performs the double integral of the quasar luminosity function using the provided input parameters. For this calculation we need to specify a cosmology as the differential comoving solid volume element, which can be provided directly, depends on it."
   ]
  },
  {
   "cell_type": "code",
   "execution_count": 8,
   "id": "34057623",
   "metadata": {},
   "outputs": [
    {
     "name": "stdout",
     "output_type": "stream",
     "text": [
      "Calculate the number of sources described by the luminosity function\n",
      "        over a luminosity and redshift interval in units of per steradian.\n",
      "\n",
      "        Either a cosmology or dVdzdO have to be supplied.\n",
      "\n",
      "        :param lum_range: Luminosity range\n",
      "        :type lum_range: tuple\n",
      "        :param redsh_range: Redshift range\n",
      "        :type redsh_range: tuple\n",
      "        :param dVdzdO: Differential comoving solid volume element (default =\n",
      "            None)\n",
      "        :type dVdzdO: function\n",
      "        :param selfun: Selection function (default = None)\n",
      "        :type selfun: atelier.selfun.QsoSelectionFunction\n",
      "        :param cosmology: Cosmology (default = None)\n",
      "        :type cosmology: astropy.cosmology.Cosmology\n",
      "        :param kwargs:\n",
      "        :return: :math:`N = \\int\\int\\Phi(L,z) (dV/(dz d\\Omega)) dL dz`\n",
      "        :rtype: float\n",
      "        \n"
     ]
    }
   ],
   "source": [
    "print(mcgreer2013.integrate_over_lum_redsh.__doc__)"
   ]
  },
  {
   "cell_type": "code",
   "execution_count": 11,
   "id": "a6f0a6fb",
   "metadata": {},
   "outputs": [
    {
     "name": "stdout",
     "output_type": "stream",
     "text": [
      "There are 936.08722 quasars per steradian within z=5-5.5 and with M1450=-29 to -24 (using romberg integration)\n",
      "There are 936.08637 quasars per steradian within z=5-5.5 and with M1450=-29 to -24 (using Simpsons rule on a grid)\n"
     ]
    }
   ],
   "source": [
    "cosmology = FlatLambdaCDM(H0=70, Om0=0.272)\n",
    "\n",
    "n_qso_per_steradian = mcgreer2013.integrate_over_lum_redsh([-29,-24],[5,5.5], cosmology=cosmology)\n",
    "print('There are {:.5f} quasars per steradian within z=5-5.5 and with M1450=-29 to -24 (using romberg integration)'.format(n_qso_per_steradian))\n",
    "\n",
    "n_qso_per_steradian = mcgreer2013.integrate_over_lum_redsh_simpson([-29,-24],[5,5.5], cosmology=cosmology)\n",
    "print('There are {:.5f} quasars per steradian within z=5-5.5 and with M1450=-29 to -24 (using Simpsons rule on a grid)'.format(n_qso_per_steradian))"
   ]
  },
  {
   "cell_type": "markdown",
   "id": "f33a21a9",
   "metadata": {},
   "source": [
    "### 1.2.3) Calculating the quasar number density over a luminosity range (per Mpc^3)\n",
    "The built-in class function *.integrate_lum* performs this integral using the provided input parameters."
   ]
  },
  {
   "cell_type": "code",
   "execution_count": 10,
   "id": "2dd88a87",
   "metadata": {},
   "outputs": [
    {
     "name": "stdout",
     "output_type": "stream",
     "text": [
      "Calculate the volumetric source density described by the luminosity\n",
      "        function at a given redshift and over a luminosity interval in units of\n",
      "        per Mpc^3.\n",
      "\n",
      "        :param redsh: Redshift\n",
      "        :type redsh: float\n",
      "        :param lum_range: Luminosity range\n",
      "        :type lum_range: tuple\n",
      "        :param kwargs:\n",
      "        :return: :math:`\\int \\Phi(L,z) dL`\n",
      "        :rtype: float\n",
      "        \n"
     ]
    }
   ],
   "source": [
    "print(mcgreer2013.integrate_lum.__doc__)"
   ]
  },
  {
   "cell_type": "code",
   "execution_count": 11,
   "id": "a81adab9",
   "metadata": {},
   "outputs": [
    {
     "name": "stdout",
     "output_type": "stream",
     "text": [
      "The quasar density (in Mpc^-3) over M1450=-29 to -24 is 8.53e-08 at redshift z=4.9\n"
     ]
    }
   ],
   "source": [
    "n_qso_per_Mpc3 = mcgreer2013.integrate_lum(4.9,[-29,-24])\n",
    "print('The quasar density (in Mpc^-3) over M1450=-29 to -24 is {:.2e} at redshift z=4.9'.format(n_qso_per_Mpc3))"
   ]
  },
  {
   "cell_type": "markdown",
   "id": "ded6ca18",
   "metadata": {},
   "source": [
    "### 1.2.4) Calculating the quasar number density over a luminosity range (per steradian)\n",
    "The built-in class function *.redshift_density* performs this integral using the provided input parameters. This quantity is rarely used in normal calculations based on the quasar luminosity function."
   ]
  },
  {
   "cell_type": "code",
   "execution_count": 12,
   "id": "a5e1663e",
   "metadata": {},
   "outputs": [
    {
     "name": "stdout",
     "output_type": "stream",
     "text": [
      "Calculate the volumetric source density described by the luminosity\n",
      "        function at a given redshift and over a luminosity interval in units of\n",
      "        per steradian per redshift.\n",
      "\n",
      "        :param redsh: Redshift\n",
      "        :type redsh: float\n",
      "        :param lum_range: Luminosity range\n",
      "        :type lum_range: tuple\n",
      "        :param dVdzdO: Differential comoving solid volume element (default =\n",
      "            None)\n",
      "        :type dVdzdO: function\n",
      "        :param kwargs:\n",
      "        :return: :math:`\\int \\Phi(L,z) (dV/dz){d\\Omega} dL`\n",
      "        :rtype: float\n",
      "        \n"
     ]
    }
   ],
   "source": [
    "print(mcgreer2013.redshift_density.__doc__)"
   ]
  },
  {
   "cell_type": "code",
   "execution_count": 13,
   "id": "c4ca4b46",
   "metadata": {},
   "outputs": [
    {
     "name": "stdout",
     "output_type": "stream",
     "text": [
      "The quasar density (per steradian and per redshift(!)) over M1450=-29 to -24 is 2.80e+03 at redshift z=4.9\n"
     ]
    }
   ],
   "source": [
    "dVdzdO = lumfun.interp_dVdzdO([4.0,6.0], cosmology)\n",
    "\n",
    "\n",
    "n_qso_per_steradian_per_z = mcgreer2013.redshift_density(4.9,[-29,-24],dVdzdO)\n",
    "print('The quasar density (per steradian and per redshift(!)) over M1450=-29 to -24 is {:.2e} at redshift z=4.9'.format(n_qso_per_steradian_per_z))"
   ]
  },
  {
   "cell_type": "markdown",
   "id": "ce756f91",
   "metadata": {},
   "source": [
    "## 1.3) Calculating the ionizing emissivity at 1450A (or 912A)\n",
    "Another built-in class function, which is only defined for broken double power laws and single power laws (both based on magnitude) and for quasar luminosity functions with *lum_type = 'M1450'* is *.calc_ionizing_emissivity_at_1450A*. To properly test this function and compare it with published results on the ionizing emissivity we use the pre-defined quasar luminosity function (single power law parametrization) of Wang+2019.\n",
    "\n",
    "ADS reference: https://ui.adsabs.harvard.edu/abs/2019ApJ...884...30W/abstract"
   ]
  },
  {
   "cell_type": "code",
   "execution_count": 14,
   "id": "d6e0b3ca",
   "metadata": {},
   "outputs": [
    {
     "name": "stdout",
     "output_type": "stream",
     "text": [
      "[INFO]---------------------------------------------------\n",
      "[INFO] Performing initialization checks \n",
      "[INFO]---------------------------------------------------\n",
      "[INFO]---------------------------------------------------\n",
      "[INFO] Main parameter phi_star is supplied as a normal parameter.\n",
      "[INFO]---------------------------------------------------\n",
      "[INFO] Main parameter alpha is supplied as a normal parameter.\n",
      "[INFO]---------------------------------------------------\n",
      "[INFO] Main parameter lum_ref is supplied as a normal parameter.\n",
      "[INFO]---------------------------------------------------\n",
      "[INFO] Initialization check passed.\n",
      "[INFO]---------------------------------------------------\n"
     ]
    }
   ],
   "source": [
    "wang2019spl = lumfun.WangFeige2019SPLQLF()"
   ]
  },
  {
   "cell_type": "markdown",
   "id": "6a781497",
   "metadata": {},
   "source": [
    "We use the same integration boundaries (M1450=-30 to -28) at a redshift of z=6.7"
   ]
  },
  {
   "cell_type": "code",
   "execution_count": 15,
   "id": "d89ecba0",
   "metadata": {},
   "outputs": [
    {
     "name": "stdout",
     "output_type": "stream",
     "text": [
      "Calculated ionizing emissivity at 1450A e1450=2.77e+23\n",
      "Rescaled ionizing emissivity to 912A e912=2.10e+23\n",
      "Ionizing emissivity at 912A calculated in Wang2019 for the single power law QLF e912=2.10e+23\n"
     ]
    }
   ],
   "source": [
    "e1450 = wang2019spl.calc_ionizing_emissivity_at_1450A(6.7, [-30,-18])\n",
    "\n",
    "# Adopting a power law slope of -0.6 we scale the ionizing emissivity at 1450A to 912A (Lyman break)\n",
    "e912 = e1450*(1450./912)**-0.6\n",
    "print('Calculated ionizing emissivity at 1450A e1450={:.2e}'.format(e1450))\n",
    "print('Rescaled ionizing emissivity to 912A e912={:.2e}'.format(e912))\n",
    "print('Ionizing emissivity at 912A calculated in Wang2019 for the single power law QLF e912=2.10e+23')"
   ]
  },
  {
   "cell_type": "markdown",
   "id": "7bfd854d",
   "metadata": {},
   "source": [
    "## 2) Sampling from the luminosity function\n",
    "A built-in class function allows to sample sources from a luminosity function. The sampling is done in a two step process. 1) The redshift range is divided into small bins and the number of expected sources per bin is calculated. 2) A cumulative distribution of the quasar luminosity function is calculated at the redshift bin middle and the number of expected sources for the redshift bin is taken.\n",
    "Sources for all bins are concatenated and returned. \n",
    "\n",
    "**Note!**\n",
    "This sampling routine is in large part inspired by\n",
    "https://github.com/imcgreer/simqso/blob/master/simqso/lumfun.py\n",
    ", lines 219 and following."
   ]
  },
  {
   "cell_type": "code",
   "execution_count": 16,
   "id": "ba74bb66",
   "metadata": {},
   "outputs": [
    {
     "name": "stdout",
     "output_type": "stream",
     "text": [
      "Sample the luminosity function over a given luminosity and\n",
      "            redshift range.\n",
      "\n",
      "        This sampling routine is in large part adopten from\n",
      "        https://github.com/imcgreer/simqso/blob/master/simqso/lumfun.py\n",
      "        , lines 219 and following.\n",
      "\n",
      "        If the integral over the luminosity function does not have an\n",
      "        analytical implementation, integrals are calculated using\n",
      "        integrate.romberg, which can take a substantial amount of time.\n",
      "\n",
      "        :param lum_range: Luminosity range\n",
      "        :type lum_range: tuple\n",
      "        :param redsh_range: Redshift range\n",
      "        :type redsh_range: tuple\n",
      "        :param cosmology: Cosmology (default = None)\n",
      "        :type cosmology: astropy.cosmology.Cosmology\n",
      "        :param sky_area: Area of the sky to be sampled in square degrees\n",
      "        :type sky_area: float\n",
      "        :param seed: Random seed for the sampling\n",
      "        :type seed: int\n",
      "        :param lum_res: Luminosity resolution (default = 1e-2, equivalent to\n",
      "            100 bins)\n",
      "        :type lum_res: float\n",
      "        :param redsh_res: Redshift resolution (default = 1e-2, equivalent to\n",
      "            100 bins)\n",
      "        :type redsh_res: float\n",
      "        :param verbose: Verbosity\n",
      "        :type verbose: int\n",
      "        :return: Source sample luminosities and redshifts\n",
      "        :rtype: (numpy.ndarray,numpy.ndarray)\n",
      "        \n"
     ]
    }
   ],
   "source": [
    "print(mcgreer2013.sample.__doc__)"
   ]
  },
  {
   "cell_type": "code",
   "execution_count": 17,
   "id": "4d5f1662",
   "metadata": {},
   "outputs": [
    {
     "name": "stdout",
     "output_type": "stream",
     "text": [
      "[INFO] Integration returned 2851 sources\n"
     ]
    }
   ],
   "source": [
    "Mrange = [-29, -24]\n",
    "zrange = [5.0, 5.5]\n",
    "sky_area = 10000\n",
    "\n",
    "sample_M, sample_z = mcgreer2013.sample(Mrange, zrange, cosmology, sky_area)"
   ]
  },
  {
   "cell_type": "code",
   "execution_count": 18,
   "id": "485eaed2",
   "metadata": {},
   "outputs": [
    {
     "data": {
      "image/png": "[encoded data removed]",
      "text/plain": [
       "<Figure size 432x288 with 1 Axes>"
      ]
     },
     "metadata": {
      "needs_background": "light"
     },
     "output_type": "display_data"
    }
   ],
   "source": [
    "plt.plot(sample_z, sample_M, '.')\n",
    "plt.xlabel('Redshift', fontsize=14)\n",
    "plt.ylabel('$M_{1450}$', fontsize=14)\n",
    "plt.title('Sampled sources from the McGreer+2013 QLF')\n",
    "plt.show()"
   ]
  },
  {
   "cell_type": "code",
   "execution_count": null,
   "id": "b230c2cd",
   "metadata": {},
   "outputs": [],
   "source": []
  }
 ],
 "metadata": {
  "kernelspec": {
   "display_name": "Python 3",
   "language": "python",
   "name": "python3"
  },
  "language_info": {
   "codemirror_mode": {
    "name": "ipython",
    "version": 3
   },
   "file_extension": ".py",
   "mimetype": "text/x-python",
   "name": "python",
   "nbconvert_exporter": "python",
   "pygments_lexer": "ipython3",
   "version": "3.6.13"
  }
 },
 "nbformat": 4,
 "nbformat_minor": 5
}
