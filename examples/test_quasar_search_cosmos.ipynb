{
 "cells": [
  {
   "cell_type": "code",
   "execution_count": 1,
   "id": "90af8e26",
   "metadata": {},
   "outputs": [],
   "source": [
    "# General imports \n",
    "import numpy as np\n",
    "import matplotlib.pyplot as plt\n",
    "from astropy.cosmology import FlatLambdaCDM\n",
    "\n",
    "# Importing the luminosity function module\n",
    "from atelier import lumfun"
   ]
  },
  {
   "cell_type": "code",
   "execution_count": 2,
   "id": "334b9fd9",
   "metadata": {},
   "outputs": [
    {
     "name": "stdout",
     "output_type": "stream",
     "text": [
      "[INFO]---------------------------------------------------\n",
      "[INFO] Performing initialization checks \n",
      "[INFO]---------------------------------------------------\n",
      "[INFO]---------------------------------------------------\n",
      "[INFO] Main parameter phi_star is described by a function.\n",
      "[INFO] The function parameters are: ['redsh', 'phi_star_z6p7', 'k', 'z_ref']\n",
      "[INFO] All parameters are supplied.\n",
      "[INFO] Parameters \"lum\" and \"redsh\" were ignored as they are luminosity function arguments.\n",
      "[INFO]---------------------------------------------------\n",
      "[INFO] Main parameter lum_star is supplied as a normal parameter.\n",
      "[INFO]---------------------------------------------------\n",
      "[INFO] Main parameter alpha is supplied as a normal parameter.\n",
      "[INFO]---------------------------------------------------\n",
      "[INFO] Main parameter beta is supplied as a normal parameter.\n",
      "[INFO]---------------------------------------------------\n",
      "[INFO] Initialization check passed.\n",
      "[INFO]---------------------------------------------------\n"
     ]
    }
   ],
   "source": [
    "wang2019 = lumfun.WangFeige2019DPLQLF()"
   ]
  },
  {
   "cell_type": "code",
   "execution_count": 27,
   "id": "49886d5a",
   "metadata": {},
   "outputs": [
    {
     "name": "stdout",
     "output_type": "stream",
     "text": [
      "2048.826175768685\n"
     ]
    },
    {
     "data": {
      "text/plain": [
       "0.624107557004569"
      ]
     },
     "execution_count": 27,
     "metadata": {},
     "output_type": "execute_result"
    }
   ],
   "source": [
    "cosmology = FlatLambdaCDM(H0=70, Om0=0.272)\n",
    "n_qso_per_steradian = wang2019.integrate_over_lum_redsh([-30,-22],[6.0,7.0], cosmology=cosmology)\n",
    "print(n_qso_per_steradian)\n",
    "n_qso_per_steradian*4*np.pi/41253"
   ]
  },
  {
   "cell_type": "code",
   "execution_count": 28,
   "id": "c0c8c1b3",
   "metadata": {},
   "outputs": [
    {
     "data": {
      "text/plain": [
       "0.0931637749462216"
      ]
     },
     "execution_count": 28,
     "metadata": {},
     "output_type": "execute_result"
    }
   ],
   "source": [
    "cosmology = FlatLambdaCDM(H0=70, Om0=0.272)\n",
    "n_qso_per_steradian = wang2019.integrate_over_lum_redsh([-30,-22],[7.0,8.0], cosmology=cosmology)\n",
    "n_qso_per_steradian*4*np.pi/41253"
   ]
  },
  {
   "cell_type": "code",
   "execution_count": 21,
   "id": "0bef3ecc",
   "metadata": {},
   "outputs": [],
   "source": [
    "class KCorrection(object):\n",
    "\n",
    "    def __init__(self, cosmology):\n",
    "        self.cosmology = cosmology\n",
    "\n",
    "    def evaluate(self, mag, redsh):\n",
    "        raise NotImplementedError\n",
    "\n",
    "class KCorrectionPL(KCorrection):\n",
    "\n",
    "    def __init__(self, slope, cosmology):\n",
    "        self.cosmology = cosmology\n",
    "        self.slope = slope\n",
    "\n",
    "\n",
    "    def evaluate(self, mag, redsh):\n",
    "\n",
    "        return -2.5 * (1 + self.slope) * np.log10(1+redsh)\n",
    "    \n",
    "    def m2M(self, mag, redsh):\n",
    "        kcorrection = np.array(self.evaluate(mag, redsh))\n",
    "        distmod = self.cosmology.distmod(redsh).value\n",
    "\n",
    "        return mag - distmod - kcorrection"
   ]
  },
  {
   "cell_type": "code",
   "execution_count": 22,
   "id": "6ce82fbc",
   "metadata": {},
   "outputs": [],
   "source": [
    "kcorr = KCorrectionPL(-0.5, cosmology)"
   ]
  },
  {
   "cell_type": "code",
   "execution_count": 23,
   "id": "beae62cc",
   "metadata": {},
   "outputs": [
    {
     "data": {
      "text/plain": [
       "-22.034482402597583"
      ]
     },
     "execution_count": 23,
     "metadata": {},
     "output_type": "execute_result"
    }
   ],
   "source": [
    "kcorr.m2M(26,6.5)"
   ]
  },
  {
   "cell_type": "code",
   "execution_count": null,
   "id": "d97c696a",
   "metadata": {},
   "outputs": [],
   "source": []
  }
 ],
 "metadata": {
  "kernelspec": {
   "display_name": "Python 3",
   "language": "python",
   "name": "python3"
  },
  "language_info": {
   "codemirror_mode": {
    "name": "ipython",
    "version": 3
   },
   "file_extension": ".py",
   "mimetype": "text/x-python",
   "name": "python",
   "nbconvert_exporter": "python",
   "pygments_lexer": "ipython3",
   "version": "3.6.13"
  }
 },
 "nbformat": 4,
 "nbformat_minor": 5
}
